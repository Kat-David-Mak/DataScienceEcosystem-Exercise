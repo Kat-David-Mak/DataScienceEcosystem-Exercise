{
 "cells": [
  {
   "cell_type": "markdown",
   "id": "063a036d-09ed-4c49-9f18-3095dd0c636e",
   "metadata": {},
   "source": [
    "# Data Science Tools and Ecosystem"
   ]
  },
  {
   "cell_type": "markdown",
   "id": "1d39f68a-92b5-4473-9f30-b49069a59a87",
   "metadata": {},
   "source": [
    "In this notebook, Data Science Tools and Ecosystem are summarized."
   ]
  },
  {
   "cell_type": "markdown",
   "id": "5b2be569",
   "metadata": {},
   "source": [
    "Some of the popular languages that Data Scientists use are:\n",
    "\n",
    "1. Python\n",
    "2. R.\n",
    "3. Julia\n",
    "4. SQL"
   ]
  },
  {
   "cell_type": "markdown",
   "id": "cdc94791",
   "metadata": {},
   "source": [
    "Some of the commonly used libraries used by Data Scientists include:\n",
    "\n",
    "1. Pandas\n",
    "2. Matplotlib\n",
    "3. Plotly\n",
    "4. Numpy"
   ]
  },
  {
   "cell_type": "markdown",
   "id": "a6ec6609",
   "metadata": {},
   "source": []
  },
  {
   "cell_type": "markdown",
   "id": "7f51ec60",
   "metadata": {},
   "source": [
    "|Data Science Tools |\n",
    "|-----|\n",
    "|Jupyter Notebooks|\n",
    "|Apache Spark  |\n",
    "| Git and GitHub |"
   ]
  },
  {
   "cell_type": "markdown",
   "id": "3ac84a81",
   "metadata": {},
   "source": []
  },
  {
   "cell_type": "markdown",
   "id": "28ed8c93",
   "metadata": {},
   "source": [
    "### Below are a few examples of evaluating arithmetic expressions in Python"
   ]
  },
  {
   "cell_type": "code",
   "execution_count": 1,
   "id": "e164ec5f",
   "metadata": {},
   "outputs": [
    {
     "data": {
      "text/plain": [
       "17"
      ]
     },
     "execution_count": 1,
     "metadata": {},
     "output_type": "execute_result"
    }
   ],
   "source": [
    "#This a simple arithmetic expression to mutiply then add integers\n",
    "(3*4)+5"
   ]
  },
  {
   "cell_type": "code",
   "execution_count": 6,
   "id": "ef512bca",
   "metadata": {},
   "outputs": [
    {
     "name": "stdout",
     "output_type": "stream",
     "text": [
      "3.3333333333333335\n"
     ]
    }
   ],
   "source": [
    "#This will convert 200 minutes to hours by diving by 60\n",
    "minutes = 200\n",
    "minutes_to_hour = 60\n",
    "hours = minutes / minutes_to_hour\n",
    "print(hours)"
   ]
  },
  {
   "cell_type": "markdown",
   "id": "f952108e",
   "metadata": {},
   "source": [
    "**Objectives:**\n",
    "\n",
    "- Python\n",
    "- R.\n",
    "- Julia\n",
    "- SQL"
   ]
  },
  {
   "cell_type": "markdown",
   "id": "ae2ab2e0",
   "metadata": {},
   "source": [
    "## Author\n",
    "Katleho"
   ]
  },
  {
   "cell_type": "markdown",
   "id": "626458a4",
   "metadata": {},
   "source": []
  }
 ],
 "metadata": {
  "kernelspec": {
   "display_name": "Python 3 (ipykernel)",
   "language": "python",
   "name": "python3"
  },
  "language_info": {
   "codemirror_mode": {
    "name": "ipython",
    "version": 3
   },
   "file_extension": ".py",
   "mimetype": "text/x-python",
   "name": "python",
   "nbconvert_exporter": "python",
   "pygments_lexer": "ipython3",
   "version": "3.11.7"
  }
 },
 "nbformat": 4,
 "nbformat_minor": 5
}
